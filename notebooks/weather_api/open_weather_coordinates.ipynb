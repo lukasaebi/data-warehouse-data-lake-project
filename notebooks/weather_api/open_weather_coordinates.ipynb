{
 "cells": [
  {
   "cell_type": "code",
   "execution_count": 4,
   "metadata": {},
   "outputs": [],
   "source": [
    "import requests\n",
    "from dotenv import load_dotenv\n",
    "import os"
   ]
  },
  {
   "cell_type": "code",
   "execution_count": 5,
   "metadata": {},
   "outputs": [],
   "source": [
    "# Lade Umgebungsvariablen aus der .env-Datei (z. B. API-Schlüssel)\n",
    "load_dotenv()\n",
    "\n",
    "# API-Schlüssel aus der .env-Datei laden\n",
    "api_key = os.getenv('API_KEY')"
   ]
  },
  {
   "cell_type": "code",
   "execution_count": 7,
   "metadata": {},
   "outputs": [
    {
     "name": "stdout",
     "output_type": "stream",
     "text": [
      "Stadt: London, Land: GB, Breitengrad: 51.5073219, Längengrad: -0.1276474\n",
      "Stadt: Paris, Land: FR, Breitengrad: 48.8588897, Längengrad: 2.3200410217200766\n",
      "Stadt: Madrid, Land: ES, Breitengrad: 40.4167047, Längengrad: -3.7035825\n",
      "Stadt: Frankfurt, Land: DE, Breitengrad: 50.1106444, Längengrad: 8.6820917\n",
      "Stadt: Zurich, Land: CH, Breitengrad: 47.3744489, Längengrad: 8.5410422\n",
      "Stadt: Moscow, Land: RU, Breitengrad: 55.7504461, Längengrad: 37.6174943\n",
      "Stadt: Amsterdam, Land: NL, Breitengrad: 52.3727598, Längengrad: 4.8936041\n",
      "Stadt: Lisbon, Land: PT, Breitengrad: 38.7077507, Längengrad: -9.1365919\n",
      "Stadt: Rome, Land: IT, Breitengrad: 41.8933203, Längengrad: 12.4829321\n",
      "Stadt: Dublin, Land: IE, Breitengrad: 53.3498006, Längengrad: -6.2602964\n",
      "Stadt: Vienna, Land: AT, Breitengrad: 48.2083537, Längengrad: 16.3725042\n"
     ]
    },
    {
     "data": {
      "text/plain": [
       "[{'city_name': 'London', 'lat': 51.5073219, 'lon': -0.1276474},\n",
       " {'city_name': 'Paris', 'lat': 48.8588897, 'lon': 2.3200410217200766},\n",
       " {'city_name': 'Madrid', 'lat': 40.4167047, 'lon': -3.7035825},\n",
       " {'city_name': 'Frankfurt', 'lat': 50.1106444, 'lon': 8.6820917},\n",
       " {'city_name': 'Zurich', 'lat': 47.3744489, 'lon': 8.5410422},\n",
       " {'city_name': 'Moscow', 'lat': 55.7504461, 'lon': 37.6174943},\n",
       " {'city_name': 'Amsterdam', 'lat': 52.3727598, 'lon': 4.8936041},\n",
       " {'city_name': 'Lisbon', 'lat': 38.7077507, 'lon': -9.1365919},\n",
       " {'city_name': 'Rome', 'lat': 41.8933203, 'lon': 12.4829321},\n",
       " {'city_name': 'Dublin', 'lat': 53.3498006, 'lon': -6.2602964},\n",
       " {'city_name': 'Vienna', 'lat': 48.2083537, 'lon': 16.3725042}]"
      ]
     },
     "execution_count": 7,
     "metadata": {},
     "output_type": "execute_result"
    }
   ],
   "source": [
    "def fetch_coordinates(api_key, city_names):\n",
    "\n",
    "    city_coordinates = []\n",
    "\n",
    "    for cities in city_names:\n",
    "        api_url = f\"http://api.openweathermap.org/geo/1.0/direct?q={cities}&limit=5&appid={api_key}\"\n",
    "        \n",
    "        try:\n",
    "            # API GET-Request senden\n",
    "            response = requests.get(api_url)\n",
    "            \n",
    "            if response.status_code == 200:\n",
    "                data = response.json()\n",
    "                if data:\n",
    "                    # Daten der ersten Übereinstimmung nehmen (z.B. London, GB)\n",
    "                    city_info = data[0]  # Nimmt den ersten Treffer\n",
    "                    lat = city_info['lat']\n",
    "                    lon = city_info['lon']\n",
    "                    city_name = city_info[\"name\"]\n",
    "\n",
    "                    city_coordinates.append({\n",
    "                        \"city_name\": city_name,\n",
    "                        \"lat\": lat, \n",
    "                        \"lon\" : lon\n",
    "                    })\n",
    "                    \n",
    "                    print(f\"Stadt: {city_name}, Land: {city_info['country']}, Breitengrad: {lat}, Längengrad: {lon}\")\n",
    "                else:\n",
    "                    print(f\"Keine Daten für {cities} gefunden.\")\n",
    "            else:\n",
    "                print(f\"Fehlerhafte Anfrage für {cities}. Statuscode: {response.status_code}\")\n",
    "        \n",
    "        except requests.exceptions.RequestException as e:\n",
    "            print(f\"Ein Fehler ist aufgetreten für {cities}: {e}\")\n",
    "    \n",
    "    return city_coordinates\n",
    "\n",
    "# Beispiel-Liste von Städten\n",
    "city_names = [\"London\", \"Paris\", \"Madrid\", \"Frankfurt\", \"Zurich\", \"Moscow\", \"Amsterdam\", \"Lisbon\", \"Rome\", \"Dublin\", \"Vienna\"]"
   ]
  },
  {
   "cell_type": "code",
   "execution_count": 8,
   "metadata": {},
   "outputs": [
    {
     "name": "stdout",
     "output_type": "stream",
     "text": [
      "Stadt: London, Land: GB, Breitengrad: 51.5073219, Längengrad: -0.1276474\n",
      "Stadt: Paris, Land: FR, Breitengrad: 48.8588897, Längengrad: 2.3200410217200766\n",
      "Stadt: Madrid, Land: ES, Breitengrad: 40.4167047, Längengrad: -3.7035825\n",
      "Stadt: Frankfurt, Land: DE, Breitengrad: 50.1106444, Längengrad: 8.6820917\n",
      "Stadt: Zurich, Land: CH, Breitengrad: 47.3744489, Längengrad: 8.5410422\n",
      "Stadt: Moscow, Land: RU, Breitengrad: 55.7504461, Längengrad: 37.6174943\n",
      "Stadt: Amsterdam, Land: NL, Breitengrad: 52.3727598, Längengrad: 4.8936041\n",
      "Stadt: Lisbon, Land: PT, Breitengrad: 38.7077507, Längengrad: -9.1365919\n",
      "Stadt: Rome, Land: IT, Breitengrad: 41.8933203, Längengrad: 12.4829321\n",
      "Stadt: Dublin, Land: IE, Breitengrad: 53.3498006, Längengrad: -6.2602964\n",
      "Stadt: Vienna, Land: AT, Breitengrad: 48.2083537, Längengrad: 16.3725042\n"
     ]
    }
   ],
   "source": [
    "cities_coordinates = fetch_coordinates(api_key, city_names)"
   ]
  },
  {
   "cell_type": "code",
   "execution_count": null,
   "metadata": {},
   "outputs": [],
   "source": []
  }
 ],
 "metadata": {
  "kernelspec": {
   "display_name": "venv",
   "language": "python",
   "name": "python3"
  },
  "language_info": {
   "codemirror_mode": {
    "name": "ipython",
    "version": 3
   },
   "file_extension": ".py",
   "mimetype": "text/x-python",
   "name": "python",
   "nbconvert_exporter": "python",
   "pygments_lexer": "ipython3",
   "version": "3.11.9"
  }
 },
 "nbformat": 4,
 "nbformat_minor": 2
}
