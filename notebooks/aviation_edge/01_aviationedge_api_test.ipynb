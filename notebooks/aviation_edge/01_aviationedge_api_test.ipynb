{
 "cells": [
  {
   "cell_type": "markdown",
   "metadata": {},
   "source": [
    "# Test API"
   ]
  },
  {
   "cell_type": "code",
   "execution_count": 6,
   "metadata": {},
   "outputs": [],
   "source": [
    "import requests\n",
    "from dotenv import load_dotenv\n",
    "import os"
   ]
  },
  {
   "cell_type": "code",
   "execution_count": 7,
   "metadata": {},
   "outputs": [],
   "source": [
    "# Environmentvariables in .env-Datei\n",
    "load_dotenv()\n",
    "\n",
    "# API-Schlüssel Key\n",
    "api_key = os.getenv(\"AVIATION_KEY\")"
   ]
  },
  {
   "cell_type": "code",
   "execution_count": 8,
   "metadata": {},
   "outputs": [],
   "source": [
    "# API (URL)\n",
    "url = 'https://aviation-edge.com/v2/public/autocomplete'\n",
    "\n",
    "# Parameter\n",
    "params = {\n",
    "    'key': api_key, \n",
    "    'city': 'london'\n",
    "}"
   ]
  },
  {
   "cell_type": "code",
   "execution_count": 9,
   "metadata": {},
   "outputs": [],
   "source": [
    "# GET-Request\n",
    "response = requests.get(url, params=params)\n"
   ]
  },
  {
   "cell_type": "code",
   "execution_count": 10,
   "metadata": {},
   "outputs": [
    {
     "name": "stdout",
     "output_type": "stream",
     "text": [
      "{'airportsByCities': [{'GMT': '2', 'codeIataAirport': 'ELS', 'codeIataCity': 'ELS', 'codeIcaoAirport': 'FAEL', 'codeIso2Country': 'ZA', 'latitudeAirport': -33.038437, 'longitudeAirport': 27.82892, 'nameAirport': 'East London', 'nameCountry': 'South Africa', 'phone': '', 'timezone': 'Africa/Johannesburg'}, {'GMT': '-5', 'codeIataAirport': 'GON', 'codeIataCity': 'GON', 'codeIcaoAirport': 'KGON', 'codeIso2Country': 'US', 'latitudeAirport': 41.328888, 'longitudeAirport': -72.04639, 'nameAirport': 'New London', 'nameCountry': 'United States', 'phone': '', 'timezone': 'America/New_York'}, {'GMT': '-5', 'codeIataAirport': 'ZGD', 'codeIataCity': 'GON', 'codeIcaoAirport': 'ZGDY', 'codeIso2Country': 'US', 'latitudeAirport': 29.10712, 'longitudeAirport': 110.44569, 'nameAirport': 'New London Railway', 'nameCountry': 'United States', 'phone': '', 'timezone': 'America/New_York'}, {'GMT': '0', 'codeIataAirport': 'BQH', 'codeIataCity': 'LON', 'codeIcaoAirport': 'EGKB', 'codeIso2Country': 'GB', 'latitudeAirport': 51.333332, 'longitudeAirport': 0.033333, 'nameAirport': 'Biggin Hill', 'nameCountry': 'United Kingdom', 'phone': '', 'timezone': 'Europe/London'}, {'GMT': '0', 'codeIataAirport': 'LCY', 'codeIataCity': 'LON', 'codeIcaoAirport': 'EGLC', 'codeIso2Country': 'GB', 'latitudeAirport': 51.5, 'longitudeAirport': 0.05, 'nameAirport': 'London City Airport', 'nameCountry': 'United Kingdom', 'phone': '', 'timezone': 'Europe/London'}, {'GMT': '0', 'codeIataAirport': 'LGW', 'codeIataCity': 'LON', 'codeIcaoAirport': 'EGKK', 'codeIso2Country': 'GB', 'latitudeAirport': 51.156807, 'longitudeAirport': -0.161863, 'nameAirport': 'Gatwick', 'nameCountry': 'United Kingdom', 'phone': '+44 (0) 844 8', 'timezone': 'Europe/London'}, {'GMT': '0', 'codeIataAirport': 'LHR', 'codeIataCity': 'LON', 'codeIcaoAirport': 'EGLL', 'codeIso2Country': 'GB', 'latitudeAirport': 51.469604, 'longitudeAirport': -0.453566, 'nameAirport': 'Heathrow', 'nameCountry': 'United Kingdom', 'phone': '0844 335 1801', 'timezone': 'Europe/London'}, {'GMT': '0', 'codeIataAirport': 'LTN', 'codeIataCity': 'LON', 'codeIcaoAirport': 'EGGW', 'codeIso2Country': 'GB', 'latitudeAirport': 51.87977, 'longitudeAirport': -0.376232, 'nameAirport': 'Luton Airport', 'nameCountry': 'United Kingdom', 'phone': '+44(0) 1582 4', 'timezone': 'Europe/London'}, {'GMT': '0', 'codeIataAirport': 'QQK', 'codeIataCity': 'LON', 'codeIcaoAirport': '', 'codeIso2Country': 'GB', 'latitudeAirport': 51.51, 'longitudeAirport': 0.06, 'nameAirport': 'Kings Cross Rail Station', 'nameCountry': 'United Kingdom', 'phone': '', 'timezone': 'Europe/London'}, {'GMT': '0', 'codeIataAirport': 'QQP', 'codeIataCity': 'LON', 'codeIcaoAirport': '', 'codeIso2Country': 'GB', 'latitudeAirport': -1.0, 'longitudeAirport': -1.0, 'nameAirport': 'Paddington Railway Station', 'nameCountry': 'United Kingdom', 'phone': '', 'timezone': 'Europe/London'}, {'GMT': '0', 'codeIataAirport': 'QQS', 'codeIataCity': 'LON', 'codeIcaoAirport': '', 'codeIso2Country': 'GB', 'latitudeAirport': 51.51, 'longitudeAirport': 0.06, 'nameAirport': 'St Pancras International RailSt', 'nameCountry': 'United Kingdom', 'phone': '', 'timezone': 'Europe/London'}, {'GMT': '0', 'codeIataAirport': 'QQU', 'codeIataCity': 'LON', 'codeIcaoAirport': '', 'codeIso2Country': 'GB', 'latitudeAirport': 51.51, 'longitudeAirport': 0.06, 'nameAirport': 'Euston Railway Station', 'nameCountry': 'United Kingdom', 'phone': '', 'timezone': 'Europe/London'}, {'GMT': '0', 'codeIataAirport': 'QQW', 'codeIataCity': 'LON', 'codeIcaoAirport': '', 'codeIso2Country': 'GB', 'latitudeAirport': 51.51, 'longitudeAirport': 0.06, 'nameAirport': 'London-Waterloo', 'nameCountry': 'United Kingdom', 'phone': '', 'timezone': 'Europe/London'}, {'GMT': '0', 'codeIataAirport': 'SEN', 'codeIataCity': 'LON', 'codeIcaoAirport': 'EGMC', 'codeIso2Country': 'GB', 'latitudeAirport': 51.572777, 'longitudeAirport': 0.701389, 'nameAirport': 'Southend', 'nameCountry': 'United Kingdom', 'phone': '', 'timezone': 'Europe/London'}, {'GMT': '0', 'codeIataAirport': 'STN', 'codeIataCity': 'LON', 'codeIcaoAirport': 'EGSS', 'codeIso2Country': 'GB', 'latitudeAirport': 51.889267, 'longitudeAirport': 0.262703, 'nameAirport': 'Stansted', 'nameCountry': 'United Kingdom', 'phone': '', 'timezone': 'Europe/London'}, {'GMT': '0', 'codeIataAirport': 'XOF', 'codeIataCity': 'LON', 'codeIcaoAirport': '', 'codeIso2Country': 'GB', 'latitudeAirport': 51.51, 'longitudeAirport': 0.06, 'nameAirport': 'Stratford International Rail Station', 'nameCountry': 'United Kingdom', 'phone': '', 'timezone': 'Europe/London'}, {'GMT': '0', 'codeIataAirport': 'XQE', 'codeIataCity': 'LON', 'codeIcaoAirport': '', 'codeIso2Country': 'GB', 'latitudeAirport': 51.51, 'longitudeAirport': 0.06, 'nameAirport': 'Ebbsfleet International Rail Station', 'nameCountry': 'United Kingdom', 'phone': '', 'timezone': 'Europe/London'}, {'GMT': '0', 'codeIataAirport': 'ZEP', 'codeIataCity': 'LON', 'codeIcaoAirport': '', 'codeIso2Country': 'GB', 'latitudeAirport': 51.51, 'longitudeAirport': 0.06, 'nameAirport': 'Victoria Railway', 'nameCountry': 'United Kingdom', 'phone': '', 'timezone': 'Europe/London'}, {'GMT': '0', 'codeIataAirport': 'ZLS', 'codeIataCity': 'LON', 'codeIcaoAirport': '', 'codeIso2Country': 'GB', 'latitudeAirport': 51.51, 'longitudeAirport': 0.06, 'nameAirport': 'Liverpool St Rail Station', 'nameCountry': 'United Kingdom', 'phone': '', 'timezone': 'Europe/London'}, {'GMT': '-5', 'codeIataAirport': 'LOZ', 'codeIataCity': 'LOZ', 'codeIcaoAirport': 'KLOZ', 'codeIso2Country': 'US', 'latitudeAirport': 37.087223, 'longitudeAirport': -84.07694, 'nameAirport': 'Corbin-london', 'nameCountry': 'United States', 'phone': '', 'timezone': 'America/New_York'}, {'GMT': '-5', 'codeIataAirport': 'XDQ', 'codeIataCity': 'YXU', 'codeIcaoAirport': '', 'codeIso2Country': 'CA', 'latitudeAirport': 42.987, 'longitudeAirport': -81.251, 'nameAirport': 'London Railway Station', 'nameCountry': 'Canada', 'phone': '', 'timezone': 'America/Toronto'}, {'GMT': '-5', 'codeIataAirport': 'YXU', 'codeIataCity': 'YXU', 'codeIcaoAirport': 'CYXU', 'codeIso2Country': 'CA', 'latitudeAirport': 43.02802, 'longitudeAirport': -81.14965, 'nameAirport': 'London International', 'nameCountry': 'Canada', 'phone': '', 'timezone': 'America/Toronto'}], 'cities': [{'GMT': '2', 'codeIataCity': 'ELS', 'codeIso2Country': 'ZA', 'latitudeCity': -33.038437, 'longitudeCity': 27.82892, 'nameCity': 'East London', 'timezone': 'Africa/Johannesburg'}, {'GMT': '-5', 'codeIataCity': 'GON', 'codeIso2Country': 'US', 'latitudeCity': 41.355654, 'longitudeCity': -72.099521, 'nameCity': 'New London', 'timezone': 'America/New_York'}, {'GMT': '0', 'codeIataCity': 'LON', 'codeIso2Country': 'GB', 'latitudeCity': 51.51, 'longitudeCity': 0.06, 'nameCity': 'London', 'timezone': 'Europe/London'}, {'GMT': '-5', 'codeIataCity': 'LOZ', 'codeIso2Country': 'US', 'latitudeCity': 37.087223, 'longitudeCity': -84.07694, 'nameCity': 'London', 'timezone': 'America/New_York'}, {'GMT': '-5', 'codeIataCity': 'YXU', 'codeIso2Country': 'CA', 'latitudeCity': 42.987, 'longitudeCity': -81.251, 'nameCity': 'London', 'timezone': 'America/Toronto'}]}\n"
     ]
    }
   ],
   "source": [
    "# Check request (Statuscode 200)\n",
    "if response.status_code == 200:\n",
    "    data = response.json()\n",
    "    print(data)\n",
    "else:\n",
    "    print(f\"Fehler: {response.status_code}\")\n",
    "    print(response.text)"
   ]
  }
 ],
 "metadata": {
  "kernelspec": {
   "display_name": ".venv",
   "language": "python",
   "name": "python3"
  },
  "language_info": {
   "codemirror_mode": {
    "name": "ipython",
    "version": 3
   },
   "file_extension": ".py",
   "mimetype": "text/x-python",
   "name": "python",
   "nbconvert_exporter": "python",
   "pygments_lexer": "ipython3",
   "version": "3.12.3"
  }
 },
 "nbformat": 4,
 "nbformat_minor": 2
}
