{
 "cells": [
  {
   "cell_type": "markdown",
   "metadata": {},
   "source": [
    "# GET Airports for cities in europe"
   ]
  },
  {
   "cell_type": "code",
   "execution_count": 13,
   "metadata": {},
   "outputs": [],
   "source": [
    "import pandas as pd\n",
    "import requests\n",
    "import json\n",
    "import load_dotenv\n",
    "import os\n",
    "import time"
   ]
  },
  {
   "cell_type": "code",
   "execution_count": 14,
   "metadata": {},
   "outputs": [],
   "source": [
    "# Environment-variables in .env-Datei\n",
    "load_dotenv()\n",
    "\n",
    "# API-Key\n",
    "api_key = os.getenv(\"AVIATION_KEY\")\n",
    "\n",
    "# API URL\n",
    "base_url = \"https://aviation-edge.com/v2/public/autocomplete\""
   ]
  },
  {
   "cell_type": "code",
   "execution_count": 15,
   "metadata": {},
   "outputs": [],
   "source": [
    "# airports in europe csv\n",
    "airports_df = pd.read_csv(\"wikipedia_airports_eu.csv\")"
   ]
  },
  {
   "cell_type": "code",
   "execution_count": 16,
   "metadata": {},
   "outputs": [],
   "source": [
    "city_country_pairs = airports_df[['City served', 'Country']].head(20).drop_duplicates()"
   ]
  },
  {
   "cell_type": "code",
   "execution_count": 17,
   "metadata": {},
   "outputs": [
    {
     "name": "stdout",
     "output_type": "stream",
     "text": [
      "Data for London in United Kingdom retrieved successfully.\n",
      "Data for Istanbul in Turkey retrieved successfully.\n",
      "Data for Paris in France retrieved successfully.\n",
      "Data for Amsterdam in Netherlands retrieved successfully.\n",
      "Data for Madrid in Spain retrieved successfully.\n",
      "Data for Frankfurt in Germany retrieved successfully.\n",
      "Data for Barcelona in Spain retrieved successfully.\n",
      "Data for Rome in Italy retrieved successfully.\n",
      "Data for Munich in Germany retrieved successfully.\n",
      "Data for Moscow in Russia retrieved successfully.\n",
      "Data for Lisbon in Portugal retrieved successfully.\n",
      "Data for Dublin in Ireland retrieved successfully.\n",
      "Data for Palma Mallorca in Spain retrieved successfully.\n",
      "Data for Vienna in Austria retrieved successfully.\n",
      "Data for Zurich in Switzerland retrieved successfully.\n",
      "Data for Athens in Greece retrieved successfully.\n",
      "Data for Manchester in United Kingdom retrieved successfully.\n"
     ]
    }
   ],
   "source": [
    "city_data = {}\n",
    "\n",
    "# Loop through each unique city-country pair\n",
    "for _, row in city_country_pairs.iterrows():\n",
    "    city = row['City served']\n",
    "    country = row['Country']\n",
    "    \n",
    "    # Define the API request URL\n",
    "    url = f\"{base_url}?key={api_key}&city={city}\"\n",
    "    \n",
    "    # Make the request to the API\n",
    "    response = requests.get(url)\n",
    "    \n",
    "    if response.status_code == 200:\n",
    "        response_data = response.json().get('airportsByCities', [])\n",
    "        \n",
    "        # Filter results where nameCountry matches the 'Country' from the CSV\n",
    "        filtered_data = [item for item in response_data if item.get('nameCountry') == country]\n",
    "        \n",
    "        # Store only if there are matching results\n",
    "        if filtered_data:\n",
    "            city_data[city] = filtered_data\n",
    "            print(f\"Data for {city} in {country} retrieved successfully.\")\n",
    "        else:\n",
    "            print(f\"No matching data for {city} in {country}.\")\n",
    "    \n",
    "    else:\n",
    "        print(f\"Failed to retrieve data for {city}. Status code: {response.status_code}\")\n",
    "    \n",
    "    time.sleep(1)"
   ]
  },
  {
   "cell_type": "code",
   "execution_count": 18,
   "metadata": {},
   "outputs": [],
   "source": [
    "for city, airports in city_data.items():\n",
    "    # Filter airports list within each city entry\n",
    "    city_data[city] = [airport for airport in airports if airport.get(\"codeIcaoAirport\")]"
   ]
  },
  {
   "cell_type": "code",
   "execution_count": 19,
   "metadata": {},
   "outputs": [],
   "source": [
    "with open(\"airport_per_city.json\", \"w\") as outfile:\n",
    "    json.dump(city_data, outfile)"
   ]
  }
 ],
 "metadata": {
  "kernelspec": {
   "display_name": ".venv",
   "language": "python",
   "name": "python3"
  },
  "language_info": {
   "codemirror_mode": {
    "name": "ipython",
    "version": 3
   },
   "file_extension": ".py",
   "mimetype": "text/x-python",
   "name": "python",
   "nbconvert_exporter": "python",
   "pygments_lexer": "ipython3",
   "version": "3.12.3"
  }
 },
 "nbformat": 4,
 "nbformat_minor": 2
}
