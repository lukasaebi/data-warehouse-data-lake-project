{
 "cells": [
  {
   "cell_type": "code",
   "execution_count": 11,
   "metadata": {},
   "outputs": [],
   "source": [
    "import pandas as pd\n",
    "import requests\n",
    "import json\n",
    "from dotenv import load_dotenv\n",
    "import os\n",
    "import time"
   ]
  },
  {
   "cell_type": "code",
   "execution_count": 12,
   "metadata": {},
   "outputs": [],
   "source": [
    "# Environmentvariables in .env-Datei\n",
    "load_dotenv()\n",
    "\n",
    "# API-Schlüssel Key\n",
    "api_key = os.getenv(\"AVIATION_KEY\")\n",
    "\n",
    "# API URL\n",
    "base_url = \"https://aviation-edge.com/v2/public/autocomplete\""
   ]
  },
  {
   "cell_type": "code",
   "execution_count": 13,
   "metadata": {},
   "outputs": [],
   "source": [
    "airports_df = pd.read_csv(\"busiest_airports_in_europe.csv\")"
   ]
  },
  {
   "cell_type": "code",
   "execution_count": 14,
   "metadata": {},
   "outputs": [],
   "source": [
    "# Extract the first 20 rows and get unique city names\n",
    "cities = airports_df['City served'].head(20).unique()"
   ]
  },
  {
   "cell_type": "code",
   "execution_count": 15,
   "metadata": {},
   "outputs": [
    {
     "name": "stdout",
     "output_type": "stream",
     "text": [
      "Data for London retrieved successfully.\n",
      "Data for Istanbul retrieved successfully.\n",
      "Data for Paris retrieved successfully.\n",
      "Data for Amsterdam retrieved successfully.\n",
      "Data for Madrid retrieved successfully.\n",
      "Data for Frankfurt retrieved successfully.\n",
      "Data for Barcelona retrieved successfully.\n",
      "Data for Rome retrieved successfully.\n",
      "Data for Munich retrieved successfully.\n",
      "Data for Moscow retrieved successfully.\n",
      "Data for Lisbon retrieved successfully.\n",
      "Data for Dublin retrieved successfully.\n",
      "Data for Palma de Mallorca retrieved successfully.\n",
      "Data for Vienna retrieved successfully.\n",
      "Data for Zürich retrieved successfully.\n",
      "Data for Athens retrieved successfully.\n",
      "Data for Manchester retrieved successfully.\n"
     ]
    }
   ],
   "source": [
    "city_data = {}\n",
    "\n",
    "for city in cities:\n",
    "    # Define the API request URL\n",
    "    url = f\"{base_url}?key={api_key}&city={city}\"\n",
    "    \n",
    "    # Make the request to the API\n",
    "    response = requests.get(url)\n",
    "\n",
    "    if response.status_code == 200:\n",
    "        city_data[city] = response.json()  # Save JSON response\n",
    "        print(f\"Data for {city} retrieved successfully.\")\n",
    "    else:\n",
    "        print(f\"Failed to retrieve data for {city}. Status code: {response.status_code}\")\n",
    "\n",
    "    time.sleep(1)  # Add a delay to avoid hitting the API rate limit"
   ]
  },
  {
   "cell_type": "code",
   "execution_count": 16,
   "metadata": {},
   "outputs": [],
   "source": [
    "with open(\"city_data.json\", \"w\") as outfile:\n",
    "    json.dump(city_data, outfile)"
   ]
  }
 ],
 "metadata": {
  "kernelspec": {
   "display_name": ".venv",
   "language": "python",
   "name": "python3"
  },
  "language_info": {
   "codemirror_mode": {
    "name": "ipython",
    "version": 3
   },
   "file_extension": ".py",
   "mimetype": "text/x-python",
   "name": "python",
   "nbconvert_exporter": "python",
   "pygments_lexer": "ipython3",
   "version": "3.12.3"
  }
 },
 "nbformat": 4,
 "nbformat_minor": 2
}
