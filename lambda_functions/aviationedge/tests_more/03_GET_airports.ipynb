{
 "cells": [
  {
   "cell_type": "markdown",
   "metadata": {},
   "source": [
    "# GET Airports for cities in europe"
   ]
  },
  {
   "cell_type": "code",
   "execution_count": 19,
   "metadata": {},
   "outputs": [],
   "source": [
    "import pandas as pd\n",
    "import requests\n",
    "import json\n",
    "from dotenv import load_dotenv\n",
    "import os\n",
    "import time\n",
    "import yaml"
   ]
  },
  {
   "cell_type": "code",
   "execution_count": 20,
   "metadata": {},
   "outputs": [],
   "source": [
    "# Environment-variables in .env-Datei\n",
    "load_dotenv()\n",
    "\n",
    "# API-Key\n",
    "api_key = os.getenv(\"AVIATION_KEY\")\n",
    "\n",
    "# API URL\n",
    "base_url = \"https://aviation-edge.com/v2/public/autocomplete\""
   ]
  },
  {
   "cell_type": "code",
   "execution_count": 21,
   "metadata": {},
   "outputs": [],
   "source": [
    "with open(\"config.yaml\", \"r\") as file:\n",
    "    config = yaml.safe_load(file)\n",
    "    target_cities = config[\"cities\"]"
   ]
  },
  {
   "cell_type": "code",
   "execution_count": 22,
   "metadata": {},
   "outputs": [],
   "source": [
    "# airports in europe csv\n",
    "airports_df = pd.read_csv(\"wikipedia_airports_eu.csv\")"
   ]
  },
  {
   "cell_type": "code",
   "execution_count": 23,
   "metadata": {},
   "outputs": [],
   "source": [
    "filtered_df = airports_df[airports_df[\"City served\"].isin(target_cities)]\n",
    "city_country_pairs = filtered_df[['City served', 'Country']].drop_duplicates()"
   ]
  },
  {
   "cell_type": "code",
   "execution_count": 24,
   "metadata": {},
   "outputs": [
    {
     "name": "stdout",
     "output_type": "stream",
     "text": [
      "Data for London in United Kingdom retrieved successfully.\n",
      "Data for Paris in France retrieved successfully.\n",
      "Data for Amsterdam in Netherlands retrieved successfully.\n",
      "Data for Madrid in Spain retrieved successfully.\n",
      "Data for Frankfurt in Germany retrieved successfully.\n",
      "Data for Rome in Italy retrieved successfully.\n",
      "Data for Moscow in Russia retrieved successfully.\n",
      "Data for Lisbon in Portugal retrieved successfully.\n",
      "Data for Dublin in Ireland retrieved successfully.\n",
      "Data for Vienna in Austria retrieved successfully.\n",
      "Data for Zurich in Switzerland retrieved successfully.\n",
      "Data has been saved to airport_per_city.json.\n"
     ]
    }
   ],
   "source": [
    "# Dictionary to store airport data for each city\n",
    "city_data = {}\n",
    "\n",
    "# Loop through each unique city-country pair\n",
    "for _, row in city_country_pairs.iterrows():\n",
    "    city = row['City served']\n",
    "    country = row['Country']\n",
    "    \n",
    "    # Define the API request URL\n",
    "    url = f\"{base_url}?key={api_key}&city={city}\"\n",
    "    \n",
    "    # Make the request to the API\n",
    "    response = requests.get(url)\n",
    "    \n",
    "    if response.status_code == 200:\n",
    "        response_data = response.json().get('airportsByCities', [])\n",
    "        \n",
    "        # Filter results where nameCountry matches the 'Country' from the CSV and codeIcaoAirport is not empty\n",
    "        filtered_data = [\n",
    "            item for item in response_data \n",
    "            if item.get('nameCountry') == country and item.get('codeIcaoAirport')\n",
    "        ]\n",
    "        \n",
    "        # Store only if there are matching results\n",
    "        if filtered_data:\n",
    "            city_data[city] = filtered_data\n",
    "            print(f\"Data for {city} in {country} retrieved successfully.\")\n",
    "        else:\n",
    "            print(f\"No matching data for {city} in {country}.\")\n",
    "    \n",
    "    else:\n",
    "        print(f\"Failed to retrieve data for {city}. Status code: {response.status_code}\")\n",
    "    \n",
    "    # Wait 1 second between API requests to avoid rate limiting\n",
    "    time.sleep(1)\n",
    "\n",
    "# Save the final filtered data to JSON\n",
    "with open(\"airport_per_city.json\", \"w\") as outfile:\n",
    "    json.dump(city_data, outfile)\n",
    "\n",
    "print(\"Data has been saved to airport_per_city.json.\")\n"
   ]
  },
  {
   "cell_type": "code",
   "execution_count": 25,
   "metadata": {},
   "outputs": [],
   "source": [
    "# Save the final filtered data to JSON\n",
    "with open(\"airport_per_city.json\", \"w\") as outfile:\n",
    "    json.dump(city_data, outfile)"
   ]
  },
  {
   "cell_type": "code",
   "execution_count": 26,
   "metadata": {},
   "outputs": [],
   "source": [
    "with open(\"airport_per_city.json\", \"w\") as outfile:\n",
    "    json.dump(city_data, outfile)"
   ]
  },
  {
   "cell_type": "code",
   "execution_count": 27,
   "metadata": {},
   "outputs": [
    {
     "name": "stdout",
     "output_type": "stream",
     "text": [
      "IATA codes have been saved to iatacodes.json.\n"
     ]
    }
   ],
   "source": [
    "# Get all iatacodes for the airports\n",
    "with open(\"airport_per_city.json\", \"r\") as infile:\n",
    "    city_data = json.load(infile)\n",
    "\n",
    "# Extract all unique codeIataAirport values\n",
    "iata_codes = {\n",
    "    \"iatacodes\": [\n",
    "        airport[\"codeIataAirport\"]\n",
    "        for airports in city_data.values()\n",
    "        for airport in airports\n",
    "        if \"codeIataAirport\" in airport and airport[\"codeIataAirport\"]\n",
    "    ]\n",
    "}\n",
    "\n",
    "# IATA codes to iatacodes.json\n",
    "with open(\"iatacodes.json\", \"w\") as outfile:\n",
    "    json.dump(iata_codes, outfile)\n",
    "\n",
    "print(\"IATA codes have been saved to iatacodes.json.\")"
   ]
  }
 ],
 "metadata": {
  "kernelspec": {
   "display_name": ".venv",
   "language": "python",
   "name": "python3"
  },
  "language_info": {
   "codemirror_mode": {
    "name": "ipython",
    "version": 3
   },
   "file_extension": ".py",
   "mimetype": "text/x-python",
   "name": "python",
   "nbconvert_exporter": "python",
   "pygments_lexer": "ipython3",
   "version": "3.12.3"
  }
 },
 "nbformat": 4,
 "nbformat_minor": 2
}
