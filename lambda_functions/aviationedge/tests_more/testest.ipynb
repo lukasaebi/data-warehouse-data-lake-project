{
 "cells": [
  {
   "cell_type": "code",
   "execution_count": 2,
   "metadata": {},
   "outputs": [],
   "source": [
    "import psycopg2\n",
    "from datetime import datetime"
   ]
  },
  {
   "cell_type": "code",
   "execution_count": 3,
   "metadata": {},
   "outputs": [],
   "source": [
    "AWS_REGION=\"us-east-1c\"\n",
    "RDS_PASSWORD=\"Pw_test123\"\n",
    "SECURITY_GROUP_ID=\"sg-04d316273f233580c\"\n",
    "RDS_USER=\"postgres\"\n",
    "RDS_HOST=\"database-1.cmqql8v8h1t6.us-east-1.rds.amazonaws.com\"\n",
    "S3_BUCKET=\"aviations3\"\n",
    "RDS_DBNAME=\"database-1\""
   ]
  },
  {
   "cell_type": "code",
   "execution_count": 4,
   "metadata": {},
   "outputs": [],
   "source": [
    "def connect_to_rds():\n",
    "    \"\"\"Connect to the RDS instance.\"\"\"\n",
    "    try:\n",
    "        return psycopg2.connect(\n",
    "            host=RDS_HOST,\n",
    "            user=RDS_USER,\n",
    "            password=RDS_PASSWORD,\n",
    "            dbname=\"postgres\",\n",
    "            port=5432  # Default PostgreSQL port\n",
    "        )\n",
    "    except Exception as e:\n",
    "        print({\"statusCode\": 500, \"message\": f\"Error connecting to RDS: {str(e)}\"})\n",
    "        raise"
   ]
  },
  {
   "cell_type": "code",
   "execution_count": 5,
   "metadata": {},
   "outputs": [],
   "source": [
    "conn = connect_to_rds()\n",
    "cursor = conn.cursor()"
   ]
  },
  {
   "cell_type": "code",
   "execution_count": 6,
   "metadata": {},
   "outputs": [
    {
     "name": "stdout",
     "output_type": "stream",
     "text": [
      "{'statusCode': 500, 'message': 'Error connecting to RDS or creating database: database \"products\" already exists\\n'}\n"
     ]
    }
   ],
   "source": [
    "try:\n",
    "    # Connect to the default database\n",
    "    conn = psycopg2.connect(\n",
    "        host=RDS_HOST,\n",
    "        user=\"postgres\",\n",
    "        password=RDS_PASSWORD,\n",
    "        port=5432,\n",
    "        dbname=\"postgres\",\n",
    "    )\n",
    " \n",
    "    # Enable autocommit mode\n",
    "    conn.autocommit = True\n",
    " \n",
    "    cursor = conn.cursor()\n",
    " \n",
    "    # Query to create a database\n",
    "    sql = \"\"\"CREATE DATABASE products\"\"\"\n",
    " \n",
    "    # Execute the query\n",
    "    cursor.execute(sql)\n",
    "    print(\"Database has been created successfully !!\")\n",
    " \n",
    "except Exception as e:\n",
    "    print({\"statusCode\": 500, \"message\": f\"Error connecting to RDS or creating database: {str(e)}\"})\n",
    " \n",
    "finally:\n",
    "    # Clean up resources\n",
    "    if \"cursor\" in locals():\n",
    "        cursor.close()\n",
    "    if \"conn\" in locals():\n",
    "        conn.close()"
   ]
  },
  {
   "cell_type": "code",
   "execution_count": 7,
   "metadata": {},
   "outputs": [],
   "source": [
    "conn = psycopg2.connect(\n",
    "        host=RDS_HOST,\n",
    "        user=\"postgres\",\n",
    "        password=RDS_PASSWORD,\n",
    "        port=5432,\n",
    "        dbname=\"products\",\n",
    "    )\n",
    "\n",
    "conn.autocommit = True\n",
    "\n",
    "cursor = conn.cursor()"
   ]
  },
  {
   "cell_type": "code",
   "execution_count": 8,
   "metadata": {},
   "outputs": [],
   "source": [
    "cursor.execute(\n",
    "    \"\"\"CREATE TABLE IF NOT EXISTS road_traffic (\n",
    "        id SERIAL PRIMARY KEY,\n",
    "        date TIMESTAMP,\n",
    "        city VARCHAR(255),\n",
    "        road VARCHAR(255),\n",
    "        length INT,\n",
    "        speed NUMERIC,\n",
    "        freeflow NUMERIC,\n",
    "        jamfactor NUMERIC(2, 1)\n",
    "    )\"\"\"\n",
    ")"
   ]
  },
  {
   "cell_type": "code",
   "execution_count": 10,
   "metadata": {},
   "outputs": [
    {
     "name": "stdout",
     "output_type": "stream",
     "text": [
      "Table 'road_traffic' created successfully.\n",
      "Columns in 'road_traffic': ['id', 'date', 'city', 'road', 'length', 'speed', 'freeflow', 'jamfactor']\n"
     ]
    }
   ],
   "source": [
    "import psycopg2\n",
    "\n",
    "# Connect to the RDS database\n",
    "conn = psycopg2.connect(\n",
    "    host=RDS_HOST,\n",
    "    user=\"postgres\",\n",
    "    password=RDS_PASSWORD,\n",
    "    port=5432,\n",
    "    dbname=\"products\",\n",
    ")\n",
    "conn.autocommit = True\n",
    "\n",
    "try:\n",
    "    cursor = conn.cursor()\n",
    "\n",
    "    # Create the table\n",
    "    cursor.execute(\n",
    "        \"\"\"CREATE TABLE IF NOT EXISTS road_traffic (\n",
    "            id SERIAL PRIMARY KEY,\n",
    "            date TIMESTAMP,\n",
    "            city VARCHAR(255),\n",
    "            road VARCHAR(255),\n",
    "            length INT,\n",
    "            speed NUMERIC,\n",
    "            freeflow NUMERIC,\n",
    "            jamfactor NUMERIC(2, 1)\n",
    "        )\"\"\"\n",
    "    )\n",
    "    print(\"Table 'road_traffic' created successfully.\")\n",
    "\n",
    "    # Verify table structure\n",
    "    cursor.execute(\n",
    "        \"SELECT column_name FROM information_schema.columns WHERE table_name = 'road_traffic' AND table_schema = 'public';\"\n",
    "    )\n",
    "    columns = cursor.fetchall()\n",
    "\n",
    "    # Print column names\n",
    "    print(\"Columns in 'road_traffic':\", [col[0] for col in columns])\n",
    "\n",
    "except:\n",
    "    pass\n"
   ]
  },
  {
   "cell_type": "code",
   "execution_count": 11,
   "metadata": {},
   "outputs": [],
   "source": [
    "cursor = conn.cursor()\n",
    "\n",
    "cursor.execute(\n",
    "    \"\"\"INSERT INTO road_traffic (date, city, road, length, speed, freeflow, jamfactor)\n",
    "    VALUES (%s, %s, %s, %s, %s, %s, %s)\"\"\",\n",
    "    (datetime(2024, 1, 1, 6), \"London\", \"J27 M11 Interchange\", 13006, 26.1111, 28.8889, 1.4),\n",
    ")"
   ]
  },
  {
   "cell_type": "code",
   "execution_count": 12,
   "metadata": {},
   "outputs": [
    {
     "data": {
      "text/plain": [
       "[(1,\n",
       "  datetime.datetime(2024, 1, 1, 6, 0),\n",
       "  'London',\n",
       "  'J27 M11 Interchange',\n",
       "  13006,\n",
       "  Decimal('26.1111'),\n",
       "  Decimal('28.8889'),\n",
       "  Decimal('1.4')),\n",
       " (2,\n",
       "  datetime.datetime(2024, 1, 1, 6, 0),\n",
       "  'London',\n",
       "  'J27 M11 Interchange',\n",
       "  13006,\n",
       "  Decimal('26.1111'),\n",
       "  Decimal('28.8889'),\n",
       "  Decimal('1.4')),\n",
       " (3,\n",
       "  datetime.datetime(2024, 1, 1, 6, 0),\n",
       "  'London',\n",
       "  'J27 M11 Interchange',\n",
       "  13006,\n",
       "  Decimal('26.1111'),\n",
       "  Decimal('28.8889'),\n",
       "  Decimal('1.4'))]"
      ]
     },
     "execution_count": 12,
     "metadata": {},
     "output_type": "execute_result"
    }
   ],
   "source": [
    "cursor.execute(\"SELECT * FROM road_traffic\")\n",
    "result = cursor.fetchall()\n",
    "result"
   ]
  },
  {
   "cell_type": "code",
   "execution_count": 13,
   "metadata": {},
   "outputs": [
    {
     "name": "stdout",
     "output_type": "stream",
     "text": [
      "Table 'road_traffic' deleted successfully.\n"
     ]
    }
   ],
   "source": [
    "try:\n",
    "    cursor = conn.cursor()\n",
    "\n",
    "    # Drop the road_traffic table if it exists\n",
    "    cursor.execute(\"DROP TABLE IF EXISTS road_traffic;\")\n",
    "    print(\"Table 'road_traffic' deleted successfully.\")\n",
    "\n",
    "except Exception as e:\n",
    "    print(f\"Error: {e}\")\n",
    "finally:\n",
    "    cursor.close()\n",
    "    conn.close()"
   ]
  },
  {
   "cell_type": "code",
   "execution_count": 14,
   "metadata": {},
   "outputs": [
    {
     "ename": "InterfaceError",
     "evalue": "cursor already closed",
     "output_type": "error",
     "traceback": [
      "\u001b[0;31m---------------------------------------------------------------------------\u001b[0m",
      "\u001b[0;31mInterfaceError\u001b[0m                            Traceback (most recent call last)",
      "Cell \u001b[0;32mIn[14], line 1\u001b[0m\n\u001b[0;32m----> 1\u001b[0m \u001b[43mcursor\u001b[49m\u001b[38;5;241;43m.\u001b[39;49m\u001b[43mexecute\u001b[49m\u001b[43m(\u001b[49m\u001b[38;5;124;43m\"\u001b[39;49m\u001b[38;5;124;43mSELECT * FROM road_traffic\u001b[39;49m\u001b[38;5;124;43m\"\u001b[39;49m\u001b[43m)\u001b[49m\n",
      "\u001b[0;31mInterfaceError\u001b[0m: cursor already closed"
     ]
    }
   ],
   "source": [
    "cursor.execute(\"SELECT * FROM road_traffic\")"
   ]
  }
 ],
 "metadata": {
  "kernelspec": {
   "display_name": ".venv",
   "language": "python",
   "name": "python3"
  },
  "language_info": {
   "codemirror_mode": {
    "name": "ipython",
    "version": 3
   },
   "file_extension": ".py",
   "mimetype": "text/x-python",
   "name": "python",
   "nbconvert_exporter": "python",
   "pygments_lexer": "ipython3",
   "version": "3.12.3"
  }
 },
 "nbformat": 4,
 "nbformat_minor": 2
}
